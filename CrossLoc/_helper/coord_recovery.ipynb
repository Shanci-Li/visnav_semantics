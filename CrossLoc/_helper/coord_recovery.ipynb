{
 "cells": [
  {
   "cell_type": "code",
   "execution_count": 1,
   "id": "4dcd95ea-9497-41fe-8d5c-db51325bb394",
   "metadata": {},
   "outputs": [],
   "source": [
    "import os\n",
    "import torch\n",
    "import numpy as np\n",
    "from glob import glob"
   ]
  },
  {
   "cell_type": "code",
   "execution_count": 2,
   "id": "ca0119e1-6681-4a47-abf1-aba195acf9a9",
   "metadata": {},
   "outputs": [],
   "source": [
    "DATA_DIR = '/home/qiyan/Documents/TransPose/datasets/EPFL/test_drone_sim'\n",
    "\n",
    "depth_ls = sorted(glob(os.path.join(DATA_DIR, 'depth/*')))\n",
    "coord_ls = sorted(glob(os.path.join(DATA_DIR, 'init/*')))\n",
    "poses_ls = sorted(glob(os.path.join(DATA_DIR, 'poses/*')))\n",
    "calibration_ls = sorted(glob(os.path.join(DATA_DIR, 'calibration/*')))"
   ]
  },
  {
   "cell_type": "code",
   "execution_count": 3,
   "id": "bc0f8506-f39c-421d-aa3b-ac3cf449ab34",
   "metadata": {},
   "outputs": [
    {
     "name": "stdout",
     "output_type": "stream",
     "text": [
      "Iter: 0, recovering camera coords from z-buffer depth for 2181 pixels, mean error: 73.5 cm, median error: 59.8 cm\n",
      "Iter: 1, recovering camera coords from z-buffer depth for 2959 pixels, mean error: 55.4 cm, median error: 49.0 cm\n",
      "Iter: 2, recovering camera coords from z-buffer depth for 2394 pixels, mean error: 68.6 cm, median error: 59.8 cm\n",
      "Iter: 3, recovering camera coords from z-buffer depth for 3234 pixels, mean error: 59.5 cm, median error: 51.3 cm\n",
      "Iter: 4, recovering camera coords from z-buffer depth for 2598 pixels, mean error: 47.7 cm, median error: 40.1 cm\n",
      "Iter: 5, recovering camera coords from z-buffer depth for 4168 pixels, mean error: 34.9 cm, median error: 29.7 cm\n",
      "Iter: 6, recovering camera coords from z-buffer depth for 4235 pixels, mean error: 41.1 cm, median error: 31.1 cm\n",
      "Iter: 7, recovering camera coords from z-buffer depth for 3391 pixels, mean error: 18.5 cm, median error: 16.6 cm\n",
      "Iter: 8, recovering camera coords from z-buffer depth for 3774 pixels, mean error: 18.2 cm, median error: 15.9 cm\n",
      "Iter: 9, recovering camera coords from z-buffer depth for 3526 pixels, mean error: 18.1 cm, median error: 16.1 cm\n",
      "Iter: 10, recovering camera coords from z-buffer depth for 3416 pixels, mean error: 18.9 cm, median error: 16.8 cm\n",
      "Iter: 11, recovering camera coords from z-buffer depth for 3141 pixels, mean error: 17.5 cm, median error: 15.7 cm\n",
      "Iter: 12, recovering camera coords from z-buffer depth for 3160 pixels, mean error: 17.3 cm, median error: 15.3 cm\n",
      "Iter: 13, recovering camera coords from z-buffer depth for 3427 pixels, mean error: 17.8 cm, median error: 15.8 cm\n",
      "Iter: 14, recovering camera coords from z-buffer depth for 3263 pixels, mean error: 17.6 cm, median error: 15.3 cm\n",
      "Iter: 15, recovering camera coords from z-buffer depth for 3130 pixels, mean error: 16.7 cm, median error: 15.1 cm\n",
      "Iter: 16, recovering camera coords from z-buffer depth for 3362 pixels, mean error: 17.2 cm, median error: 15.4 cm\n",
      "Iter: 17, recovering camera coords from z-buffer depth for 3563 pixels, mean error: 17.2 cm, median error: 15.3 cm\n",
      "Iter: 18, recovering camera coords from z-buffer depth for 3452 pixels, mean error: 17.7 cm, median error: 15.8 cm\n",
      "Iter: 19, recovering camera coords from z-buffer depth for 3728 pixels, mean error: 18.0 cm, median error: 16.0 cm\n",
      "Iter: 20, recovering camera coords from z-buffer depth for 3831 pixels, mean error: 18.1 cm, median error: 15.9 cm\n",
      "Iter: 21, recovering camera coords from z-buffer depth for 3785 pixels, mean error: 18.0 cm, median error: 15.9 cm\n",
      "Iter: 22, recovering camera coords from z-buffer depth for 3909 pixels, mean error: 19.3 cm, median error: 17.1 cm\n",
      "Iter: 23, recovering camera coords from z-buffer depth for 3920 pixels, mean error: 19.5 cm, median error: 17.7 cm\n",
      "Iter: 24, recovering camera coords from z-buffer depth for 4121 pixels, mean error: 19.3 cm, median error: 17.4 cm\n",
      "Iter: 25, recovering camera coords from z-buffer depth for 4086 pixels, mean error: 19.4 cm, median error: 17.5 cm\n",
      "Iter: 26, recovering camera coords from z-buffer depth for 4052 pixels, mean error: 19.1 cm, median error: 17.1 cm\n",
      "Iter: 27, recovering camera coords from z-buffer depth for 4005 pixels, mean error: 19.4 cm, median error: 17.2 cm\n",
      "Iter: 28, recovering camera coords from z-buffer depth for 3921 pixels, mean error: 18.8 cm, median error: 17.1 cm\n",
      "Iter: 29, recovering camera coords from z-buffer depth for 3896 pixels, mean error: 20.4 cm, median error: 18.2 cm\n",
      "Iter: 30, recovering camera coords from z-buffer depth for 3659 pixels, mean error: 18.9 cm, median error: 17.0 cm\n",
      "Iter: 31, recovering camera coords from z-buffer depth for 3279 pixels, mean error: 19.7 cm, median error: 18.0 cm\n",
      "Iter: 32, recovering camera coords from z-buffer depth for 3336 pixels, mean error: 19.4 cm, median error: 17.4 cm\n",
      "Iter: 33, recovering camera coords from z-buffer depth for 3090 pixels, mean error: 19.7 cm, median error: 17.9 cm\n",
      "Iter: 34, recovering camera coords from z-buffer depth for 3395 pixels, mean error: 18.1 cm, median error: 15.8 cm\n",
      "Iter: 35, recovering camera coords from z-buffer depth for 3501 pixels, mean error: 18.0 cm, median error: 16.1 cm\n",
      "Iter: 36, recovering camera coords from z-buffer depth for 3931 pixels, mean error: 17.9 cm, median error: 15.8 cm\n",
      "Iter: 37, recovering camera coords from z-buffer depth for 3350 pixels, mean error: 17.7 cm, median error: 15.8 cm\n",
      "Iter: 38, recovering camera coords from z-buffer depth for 3047 pixels, mean error: 18.0 cm, median error: 16.3 cm\n",
      "Iter: 39, recovering camera coords from z-buffer depth for 3372 pixels, mean error: 17.8 cm, median error: 16.0 cm\n",
      "Iter: 40, recovering camera coords from z-buffer depth for 2854 pixels, mean error: 18.1 cm, median error: 16.3 cm\n",
      "Iter: 41, recovering camera coords from z-buffer depth for 3200 pixels, mean error: 17.6 cm, median error: 15.8 cm\n",
      "Iter: 42, recovering camera coords from z-buffer depth for 3275 pixels, mean error: 17.9 cm, median error: 16.1 cm\n",
      "Iter: 43, recovering camera coords from z-buffer depth for 2978 pixels, mean error: 17.1 cm, median error: 15.7 cm\n",
      "Iter: 44, recovering camera coords from z-buffer depth for 3175 pixels, mean error: 17.0 cm, median error: 15.4 cm\n",
      "Iter: 45, recovering camera coords from z-buffer depth for 2907 pixels, mean error: 17.0 cm, median error: 15.1 cm\n",
      "Iter: 46, recovering camera coords from z-buffer depth for 2968 pixels, mean error: 18.4 cm, median error: 17.9 cm\n",
      "Iter: 47, recovering camera coords from z-buffer depth for 3135 pixels, mean error: 18.5 cm, median error: 18.0 cm\n",
      "Iter: 48, recovering camera coords from z-buffer depth for 3289 pixels, mean error: 16.9 cm, median error: 15.2 cm\n",
      "Iter: 49, recovering camera coords from z-buffer depth for 3354 pixels, mean error: 17.0 cm, median error: 15.2 cm\n",
      "Iter: 50, recovering camera coords from z-buffer depth for 3490 pixels, mean error: 16.9 cm, median error: 15.2 cm\n",
      "Iter: 51, recovering camera coords from z-buffer depth for 3300 pixels, mean error: 17.4 cm, median error: 15.4 cm\n",
      "Iter: 52, recovering camera coords from z-buffer depth for 2843 pixels, mean error: 18.3 cm, median error: 16.5 cm\n",
      "Iter: 53, recovering camera coords from z-buffer depth for 3092 pixels, mean error: 18.0 cm, median error: 16.0 cm\n",
      "Iter: 54, recovering camera coords from z-buffer depth for 2954 pixels, mean error: 17.2 cm, median error: 15.1 cm\n",
      "Iter: 55, recovering camera coords from z-buffer depth for 3176 pixels, mean error: 17.0 cm, median error: 15.0 cm\n",
      "Iter: 56, recovering camera coords from z-buffer depth for 3412 pixels, mean error: 19.2 cm, median error: 18.8 cm\n",
      "Iter: 57, recovering camera coords from z-buffer depth for 2650 pixels, mean error: 17.8 cm, median error: 15.8 cm\n",
      "Iter: 58, recovering camera coords from z-buffer depth for 2913 pixels, mean error: 19.9 cm, median error: 18.7 cm\n",
      "Iter: 59, recovering camera coords from z-buffer depth for 3159 pixels, mean error: 16.9 cm, median error: 15.2 cm\n",
      "Iter: 60, recovering camera coords from z-buffer depth for 3259 pixels, mean error: 16.6 cm, median error: 15.0 cm\n",
      "Iter: 61, recovering camera coords from z-buffer depth for 3345 pixels, mean error: 16.7 cm, median error: 14.7 cm\n",
      "Iter: 62, recovering camera coords from z-buffer depth for 3245 pixels, mean error: 16.8 cm, median error: 15.1 cm\n",
      "Iter: 63, recovering camera coords from z-buffer depth for 3564 pixels, mean error: 17.9 cm, median error: 17.1 cm\n",
      "Iter: 64, recovering camera coords from z-buffer depth for 2885 pixels, mean error: 17.1 cm, median error: 15.3 cm\n",
      "Iter: 65, recovering camera coords from z-buffer depth for 3308 pixels, mean error: 18.4 cm, median error: 16.2 cm\n",
      "Iter: 66, recovering camera coords from z-buffer depth for 3185 pixels, mean error: 18.0 cm, median error: 16.2 cm\n",
      "Iter: 67, recovering camera coords from z-buffer depth for 3055 pixels, mean error: 17.9 cm, median error: 16.1 cm\n",
      "Iter: 68, recovering camera coords from z-buffer depth for 3780 pixels, mean error: 18.1 cm, median error: 16.4 cm\n",
      "Iter: 69, recovering camera coords from z-buffer depth for 3643 pixels, mean error: 20.1 cm, median error: 19.8 cm\n",
      "Iter: 70, recovering camera coords from z-buffer depth for 3490 pixels, mean error: 18.0 cm, median error: 15.9 cm\n",
      "Iter: 71, recovering camera coords from z-buffer depth for 3615 pixels, mean error: 360.7 cm, median error: 360.4 cm\n",
      "Iter: 72, recovering camera coords from z-buffer depth for 3272 pixels, mean error: 20.8 cm, median error: 20.1 cm\n",
      "Iter: 73, recovering camera coords from z-buffer depth for 3440 pixels, mean error: 20.9 cm, median error: 20.2 cm\n",
      "Iter: 74, recovering camera coords from z-buffer depth for 3348 pixels, mean error: 20.7 cm, median error: 20.0 cm\n",
      "Iter: 75, recovering camera coords from z-buffer depth for 3366 pixels, mean error: 20.6 cm, median error: 20.1 cm\n",
      "Iter: 76, recovering camera coords from z-buffer depth for 3420 pixels, mean error: 20.8 cm, median error: 20.3 cm\n",
      "Iter: 77, recovering camera coords from z-buffer depth for 3420 pixels, mean error: 20.5 cm, median error: 19.9 cm\n",
      "Iter: 78, recovering camera coords from z-buffer depth for 3509 pixels, mean error: 20.4 cm, median error: 19.9 cm\n",
      "Iter: 79, recovering camera coords from z-buffer depth for 3691 pixels, mean error: 20.3 cm, median error: 19.7 cm\n",
      "Iter: 80, recovering camera coords from z-buffer depth for 3590 pixels, mean error: 20.1 cm, median error: 19.6 cm\n",
      "Iter: 81, recovering camera coords from z-buffer depth for 3475 pixels, mean error: 20.3 cm, median error: 19.8 cm\n",
      "Iter: 82, recovering camera coords from z-buffer depth for 3400 pixels, mean error: 20.5 cm, median error: 20.0 cm\n",
      "Iter: 83, recovering camera coords from z-buffer depth for 3259 pixels, mean error: 20.3 cm, median error: 19.8 cm\n",
      "Iter: 84, recovering camera coords from z-buffer depth for 3474 pixels, mean error: 20.7 cm, median error: 19.8 cm\n",
      "Iter: 85, recovering camera coords from z-buffer depth for 3602 pixels, mean error: 20.7 cm, median error: 20.2 cm\n",
      "Iter: 86, recovering camera coords from z-buffer depth for 3592 pixels, mean error: 20.5 cm, median error: 19.9 cm\n",
      "Iter: 87, recovering camera coords from z-buffer depth for 3647 pixels, mean error: 20.6 cm, median error: 20.1 cm\n",
      "Iter: 88, recovering camera coords from z-buffer depth for 3705 pixels, mean error: 20.7 cm, median error: 20.0 cm\n",
      "Iter: 89, recovering camera coords from z-buffer depth for 3705 pixels, mean error: 20.8 cm, median error: 20.1 cm\n",
      "Iter: 90, recovering camera coords from z-buffer depth for 4041 pixels, mean error: 20.8 cm, median error: 20.2 cm\n",
      "Iter: 91, recovering camera coords from z-buffer depth for 4229 pixels, mean error: 20.8 cm, median error: 20.2 cm\n",
      "Iter: 92, recovering camera coords from z-buffer depth for 4280 pixels, mean error: 20.9 cm, median error: 20.2 cm\n",
      "Iter: 93, recovering camera coords from z-buffer depth for 4480 pixels, mean error: 20.3 cm, median error: 19.8 cm\n",
      "Iter: 94, recovering camera coords from z-buffer depth for 4442 pixels, mean error: 20.3 cm, median error: 19.9 cm\n",
      "Iter: 95, recovering camera coords from z-buffer depth for 4408 pixels, mean error: 20.2 cm, median error: 19.7 cm\n",
      "Iter: 96, recovering camera coords from z-buffer depth for 4411 pixels, mean error: 20.3 cm, median error: 19.8 cm\n",
      "Iter: 97, recovering camera coords from z-buffer depth for 4401 pixels, mean error: 20.2 cm, median error: 19.7 cm\n",
      "Iter: 98, recovering camera coords from z-buffer depth for 4355 pixels, mean error: 20.3 cm, median error: 19.7 cm\n",
      "Iter: 99, recovering camera coords from z-buffer depth for 4179 pixels, mean error: 20.4 cm, median error: 19.9 cm\n"
     ]
    }
   ],
   "source": [
    "for i, (depth, coord, pose, calibration) in enumerate(zip(depth_ls, coord_ls, poses_ls, calibration_ls)):\n",
    "    depth = torch.load(depth).numpy()  # [H, W] z-buffer depth\n",
    "    coord = torch.load(coord).numpy()  # [3, H, W]\n",
    "    mask_nodata = coord.reshape(3, -1)[0] == -1\n",
    "    pose = np.loadtxt(pose)  # [4, 4] cam-to-world matrix\n",
    "    focal_length = float(np.loadtxt(calibration))\n",
    "    \n",
    "    # get gt camera coordinates\n",
    "    ones = np.ones([1, *coord.shape[1:]])\n",
    "    cam_coord = np.matmul(np.linalg.inv(pose), np.concatenate([coord, ones], axis=0).reshape(4, -1)).reshape(4, *coord.shape[1:])[:3]  # [3, H, W]\n",
    "    \n",
    "    # reconstruct camera coordinates from z-buffer depth\n",
    "    # u / x_c = f / z_c  -> x_c = z_c * u / f, y_c = z_c * v / f\n",
    "    pixel_grid = np.zeros([2, *coord.shape[1:]])  # [2, H, W] x_c & y_c\n",
    "    for row in range(pixel_grid.shape[1]):\n",
    "        for col in range(pixel_grid.shape[2]):\n",
    "            u = col * 8\n",
    "            v = row * 8\n",
    "            pixel_grid[:, row, col] = np.array([u, v])\n",
    "            \n",
    "    pixel_grid -= np.array([360, 240]).reshape(2, 1, 1)  # relative to center pixel\n",
    "    \n",
    "    z_c = depth.copy()  # [H, W]\n",
    "    x_c = np.multiply(z_c, pixel_grid[0]) / focal_length  # element-wise multiplication\n",
    "    y_c = np.multiply(z_c, pixel_grid[1]) / focal_length  # element-wise multiplication\n",
    "    \n",
    "    cam_coord_recovery = np.stack([x_c, y_c, z_c])  # [3, H, W]\n",
    "    \n",
    "    # compare the recovery accuracy\n",
    "    cam_coord_select = cam_coord.reshape(3, -1)[:, np.logical_not(mask_nodata)]  # [3, X]\n",
    "    cam_coord_recovery_select = cam_coord_recovery.reshape(3, -1)[:, np.logical_not(mask_nodata)]  # [3, X]\n",
    "    recovery_error = np.linalg.norm(cam_coord_select - cam_coord_recovery_select, 2, axis=0)  # [X]\n",
    "    \n",
    "    print(\"Iter: {:d}, recovering camera coords from z-buffer depth for {:d} pixels, mean error: {:.1f} cm, median error: {:.1f} cm\".format(\n",
    "        i, len(recovery_error), np.mean(recovery_error) * 100, np.median(recovery_error) * 100))\n",
    "    # print(\"GT camera coord statistics: mean X: {:.1f} m, mean Y: {:.1f} m, mean Z: {:.1f} m\".format(*np.mean(cam_coord_select, axis=1)))\n",
    "\n",
    "    if i == 99:\n",
    "        break"
   ]
  },
  {
   "cell_type": "code",
   "execution_count": 4,
   "id": "bbf9f568-3e3a-422f-8f4c-0fad74974a21",
   "metadata": {},
   "outputs": [
    {
     "data": {
      "text/plain": [
       "array([[-56.88334899, -55.79551096, -54.36474465, ...,  48.48226222,\n",
       "         52.07186711,  53.49755777],\n",
       "       [-37.81294548, -37.82866306, -37.81678929, ...,  35.40962197,\n",
       "         35.36246447,  35.40507501],\n",
       "       [ 76.12008246,  75.78212843,  75.80699518, ...,  72.94179477,\n",
       "         72.99781181,  73.0251385 ]])"
      ]
     },
     "execution_count": 4,
     "metadata": {},
     "output_type": "execute_result"
    }
   ],
   "source": [
    "cam_coord_select"
   ]
  },
  {
   "cell_type": "code",
   "execution_count": 5,
   "id": "9f27b77b-ee18-4b2d-a8a7-cf1a00d0a63e",
   "metadata": {},
   "outputs": [
    {
     "data": {
      "text/plain": [
       "array([[-57.090065  , -55.57357686, -54.3283549 , ...,  48.62786865,\n",
       "         52.3151029 ,  53.55177409],\n",
       "       [-38.06004333, -37.89107513, -37.90350342, ...,  35.25520477,\n",
       "         35.2822787 ,  35.29548747],\n",
       "       [ 76.12008667,  75.78215027,  75.80700684, ...,  72.94180298,\n",
       "         72.99781799,  73.02514648]])"
      ]
     },
     "execution_count": 5,
     "metadata": {},
     "output_type": "execute_result"
    }
   ],
   "source": [
    "cam_coord_recovery_select"
   ]
  },
  {
   "cell_type": "code",
   "execution_count": null,
   "id": "bf203263-e94a-4bd5-879a-3e9d2633c25e",
   "metadata": {},
   "outputs": [],
   "source": []
  }
 ],
 "metadata": {
  "kernelspec": {
   "display_name": "Python 3 (ipykernel)",
   "language": "python",
   "name": "python3"
  },
  "language_info": {
   "codemirror_mode": {
    "name": "ipython",
    "version": 3
   },
   "file_extension": ".py",
   "mimetype": "text/x-python",
   "name": "python",
   "nbconvert_exporter": "python",
   "pygments_lexer": "ipython3",
   "version": "3.7.9"
  }
 },
 "nbformat": 4,
 "nbformat_minor": 5
}
